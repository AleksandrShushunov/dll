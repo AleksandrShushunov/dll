{
  "nbformat": 4,
  "nbformat_minor": 0,
  "metadata": {
    "colab": {
      "provenance": []
    },
    "kernelspec": {
      "name": "python3",
      "display_name": "Python 3"
    },
    "language_info": {
      "name": "python"
    }
  },
  "cells": [
    {
      "cell_type": "code",
      "execution_count": 1,
      "metadata": {
        "id": "i5eiJK4krrGp"
      },
      "outputs": [],
      "source": [
        "import pandas as pd\n",
        "import numpy as np\n",
        "import torch\n",
        "import torchvision as tv"
      ]
    },
    {
      "cell_type": "code",
      "source": [
        "train_dataset = tv.datasets.FashionMNIST('.', train=True, transform=tv.transforms.ToTensor(), download=True)\n",
        "test_dataset = tv.datasets.FashionMNIST('.', train=False, transform=tv.transforms.ToTensor(), download=True)"
      ],
      "metadata": {
        "id": "GXWml4ypsIfS"
      },
      "execution_count": null,
      "outputs": []
    },
    {
      "cell_type": "code",
      "source": [
        "from torch.utils.data import DataLoader\n",
        "batch_size = 64\n",
        "data_iter_train = DataLoader(train_dataset, batch_size, shuffle=True)\n",
        "data_iter_test = DataLoader(test_dataset, batch_size, shuffle=True)"
      ],
      "metadata": {
        "id": "KUToaKZ8sp5u"
      },
      "execution_count": 69,
      "outputs": []
    },
    {
      "cell_type": "code",
      "source": [
        "train_dataset[0][0].shape"
      ],
      "metadata": {
        "colab": {
          "base_uri": "https://localhost:8080/"
        },
        "id": "xmHGPsUwtxJr",
        "outputId": "79b8a814-69aa-42c6-a1c0-e9fc5f34be36"
      },
      "execution_count": 4,
      "outputs": [
        {
          "output_type": "execute_result",
          "data": {
            "text/plain": [
              "torch.Size([1, 28, 28])"
            ]
          },
          "metadata": {},
          "execution_count": 4
        }
      ]
    },
    {
      "cell_type": "code",
      "source": [
        "model = torch.nn.Sequential(\n",
        "    torch.nn.Flatten(),\n",
        "    torch.nn.Linear(784, 250),\n",
        "    torch.nn.ReLU(),\n",
        "    torch.nn.Linear(250, 100),\n",
        "    torch.nn.ReLU(),\n",
        "    torch.nn.Linear(100, 10)\n",
        ")"
      ],
      "metadata": {
        "id": "2Dsnw5oCs_-V"
      },
      "execution_count": 70,
      "outputs": []
    },
    {
      "cell_type": "code",
      "source": [
        "model"
      ],
      "metadata": {
        "colab": {
          "base_uri": "https://localhost:8080/"
        },
        "id": "SLbmsr5Fsm23",
        "outputId": "d6fa6af7-0db0-41dc-cb74-da80c7d0cf80"
      },
      "execution_count": 71,
      "outputs": [
        {
          "output_type": "execute_result",
          "data": {
            "text/plain": [
              "Sequential(\n",
              "  (0): Flatten(start_dim=1, end_dim=-1)\n",
              "  (1): Linear(in_features=784, out_features=250, bias=True)\n",
              "  (2): ReLU()\n",
              "  (3): Linear(in_features=250, out_features=100, bias=True)\n",
              "  (4): ReLU()\n",
              "  (5): Linear(in_features=100, out_features=10, bias=True)\n",
              ")"
            ]
          },
          "metadata": {},
          "execution_count": 71
        }
      ]
    },
    {
      "cell_type": "code",
      "source": [
        "loss = torch.nn.CrossEntropyLoss()\n",
        "trainer = torch.optim.Adam(model.parameters())#, lr = 0.001)"
      ],
      "metadata": {
        "id": "BG3gdZMJtfoK"
      },
      "execution_count": 72,
      "outputs": []
    },
    {
      "cell_type": "code",
      "source": [
        "num_epochs = 10"
      ],
      "metadata": {
        "id": "Mr_zbuaSwiOB"
      },
      "execution_count": 67,
      "outputs": []
    },
    {
      "cell_type": "code",
      "source": [
        "for epoch in range(1, num_epochs + 1):\n",
        "    train_iters, train_passed  = 0, 0\n",
        "    train_loss, train_acc = 0., 0.\n",
        "    test_iters, test_passed  = 0, 0\n",
        "    test_loss, test_acc = 0., 0.\n",
        "\n",
        "    model.train()\n",
        "    for X, y in data_iter_train:\n",
        "        trainer.zero_grad()\n",
        "        y_pred = model(X)\n",
        "        l = loss(y_pred, y)\n",
        "        l.backward()\n",
        "        trainer.step()\n",
        "        train_loss += l.item()\n",
        "        train_acc += (y_pred.argmax(dim=1) == y).sum().item()\n",
        "        train_iters += 1\n",
        "        train_passed += len(X)\n",
        "    model.eval()\n",
        "    for X, y in data_iter_test:\n",
        "        y_pred = model(X)\n",
        "        l = loss(y_pred, y)\n",
        "        test_loss += l.item()\n",
        "        test_acc += (y_pred.argmax(dim=1) == y).sum().item()\n",
        "        test_iters += 1\n",
        "        test_passed += len(X)\n",
        "    print(f'epoch {epoch} train_loss: {train_loss / train_iters}  train_accuracy: {train_acc / train_passed} | test_accuracy: {test_acc / test_passed}')"
      ],
      "metadata": {
        "colab": {
          "base_uri": "https://localhost:8080/"
        },
        "id": "N7tqF00wwjOD",
        "outputId": "434ece95-5a8c-4f7a-a083-5f8ccc831acf"
      },
      "execution_count": 73,
      "outputs": [
        {
          "output_type": "stream",
          "name": "stdout",
          "text": [
            "epoch 1 train_loss: 0.5284485080952583  train_accuracy: 0.8140666666666667 | test_accuracy: 0.8481\n",
            "epoch 2 train_loss: 0.3723125209940522  train_accuracy: 0.8652333333333333 | test_accuracy: 0.8618\n",
            "epoch 3 train_loss: 0.3365863458608895  train_accuracy: 0.8765666666666667 | test_accuracy: 0.8702\n",
            "epoch 4 train_loss: 0.3106623328030745  train_accuracy: 0.8855833333333333 | test_accuracy: 0.8715\n",
            "epoch 5 train_loss: 0.2935980794859975  train_accuracy: 0.8903666666666666 | test_accuracy: 0.8729\n",
            "epoch 6 train_loss: 0.27722612459427004  train_accuracy: 0.89645 | test_accuracy: 0.8817\n",
            "epoch 7 train_loss: 0.2640468822136871  train_accuracy: 0.9003166666666667 | test_accuracy: 0.8713\n",
            "epoch 8 train_loss: 0.2516084082329324  train_accuracy: 0.9051333333333333 | test_accuracy: 0.8799\n",
            "epoch 9 train_loss: 0.24133652350954662  train_accuracy: 0.9095833333333333 | test_accuracy: 0.8854\n",
            "epoch 10 train_loss: 0.2338501250129074  train_accuracy: 0.9111333333333334 | test_accuracy: 0.8884\n"
          ]
        }
      ]
    }
  ]
}